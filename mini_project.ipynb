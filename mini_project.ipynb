{
 "cells": [
  {
   "cell_type": "code",
   "execution_count": 2,
   "metadata": {},
   "outputs": [],
   "source": [
    "import requests\n",
    "from bs4 import BeautifulSoup"
   ]
  },
  {
   "cell_type": "markdown",
   "metadata": {},
   "source": [
    "- 디렉토리에서 2011~2020년 크롤링"
   ]
  },
  {
   "cell_type": "code",
   "execution_count": 65,
   "metadata": {},
   "outputs": [],
   "source": [
    "def get_crawling(url):\n",
    "    movie_title_list=[]\n",
    "    movie_genre_list=[]\n",
    "    movie_director_lsit=[]\n",
    "    movie_code_lsit=[]\n",
    "    movie_score_list=[]\n",
    "\n",
    "    while True:\n",
    "        req = requests.get(url)\n",
    "        soup = BeautifulSoup(req.text, 'html.parser')\n",
    "        li_tag = soup.select(\"div#old_content > ul > li\")\n",
    "        for li in li_tag:\n",
    "            # 영화제목\n",
    "            movie_title = li.select_one('a').get_text() \n",
    "            movie_title_list.append(movie_title)\n",
    "            movie_href = li.select_one('a')['href']\n",
    "            movie_href = \"https://movie.naver.com/\"+movie_href\n",
    "            req = requests.get(movie_href)\n",
    "            soup = BeautifulSoup(req.text, 'html.parser')\n",
    "\n",
    "            # 영화 코드\n",
    "            code = movie_href.split(\"code=\")[1]\n",
    "            movie_code_lsit.append(code)\n",
    "\n",
    "            # 영화 평점\n",
    "            score = soup.select_one(\"div.netizen_score > div.sc_view > div.star_score > em\")\n",
    "            if score is None:\n",
    "                movie_score_list.append(0)\n",
    "            elif score is not None:\n",
    "                movie_score_list.append(score.get_text())\n",
    "\n",
    "            # 영화 감독\n",
    "            director = soup.select_one(\"div.obj_section > div.people > ul > li > a\")\n",
    "            if director is None:\n",
    "                movie_director_lsit.append(\"Null\")\n",
    "            elif director is not None:\n",
    "                movie_director_lsit.append(director['title'])\n",
    "\n",
    "            # 영화 장르\n",
    "            span_tag = soup.select_one(\"dl.info_spec > dd > p > span \")\n",
    "            movie_genre=\"\"        \n",
    "            if span_tag is not None:\n",
    "                for a in span_tag.select('a'):\n",
    "                    a = a.get_text()\n",
    "                    movie_genre = movie_genre + \" \"+a  \n",
    "                movie_genre_list.append(movie_genre)\n",
    "            elif span_tag is None:\n",
    "                movie_genre_list.append(0)\n",
    "\n",
    "        req = requests.get(url)\n",
    "        soup = BeautifulSoup(req.text, 'html.parser')\n",
    "        td_tag = soup.select_one('td.next > a')\n",
    "        if td_tag is None:\n",
    "            break\n",
    "        elif td_tag is not None:\n",
    "            url=\"https://movie.naver.com\"+td_tag['href']\n",
    "            \n",
    "    return movie_title_list, movie_genre_list, movie_director_lsit, movie_code_lsit, movie_score_list"
   ]
  },
  {
   "cell_type": "code",
   "execution_count": 66,
   "metadata": {},
   "outputs": [
    {
     "name": "stdout",
     "output_type": "stream",
     "text": [
      "https://movie.naver.com/movie/sdb/browsing/bmovie.nhn?open=2020\n",
      "https://movie.naver.com/movie/sdb/browsing/bmovie.nhn?open=2019\n",
      "https://movie.naver.com/movie/sdb/browsing/bmovie.nhn?open=2018\n",
      "https://movie.naver.com/movie/sdb/browsing/bmovie.nhn?open=2017\n",
      "https://movie.naver.com/movie/sdb/browsing/bmovie.nhn?open=2016\n",
      "https://movie.naver.com/movie/sdb/browsing/bmovie.nhn?open=2015\n",
      "https://movie.naver.com/movie/sdb/browsing/bmovie.nhn?open=2014\n",
      "https://movie.naver.com/movie/sdb/browsing/bmovie.nhn?open=2013\n",
      "https://movie.naver.com/movie/sdb/browsing/bmovie.nhn?open=2012\n",
      "https://movie.naver.com/movie/sdb/browsing/bmovie.nhn?open=2011\n"
     ]
    }
   ],
   "source": [
    "movie_title_list=[]\n",
    "movie_genre_list=[]\n",
    "movie_director_lsit=[]\n",
    "movie_code_lsit=[]\n",
    "movie_score_list=[]\n",
    "\n",
    "response = requests.get('https://movie.naver.com/movie/sdb/browsing/bmovie_open.nhn')\n",
    "soup = BeautifulSoup(response.text, 'html.parser')\n",
    "td_tag = soup.select(\"table.directory_item_other > tr > td\")\n",
    "a_href = []\n",
    "result = []\n",
    "\n",
    "k=0\n",
    "for td in td_tag:\n",
    "    if k==0:\n",
    "        k+=1\n",
    "        continue\n",
    "    a_tag = td.select_one('a')\n",
    "    a_href = \"https://movie.naver.com/movie/sdb/browsing/\" + a_tag['href']\n",
    "    print(a_href)\n",
    "    result = get_crawling(a_href)\n",
    "\n",
    "    movie_title_list.append(result[0])\n",
    "    movie_genre_list.append(result[1])\n",
    "    movie_director_lsit.append(result[2])\n",
    "    movie_code_lsit.append(result[3])\n",
    "    movie_score_list.append(result[4])\n",
    "    if k==10:\n",
    "        break\n",
    "    k+=1\n",
    "\n",
    "result = {\n",
    "        'movie_code_lsit' : sum(movie_code_lsit, []),\n",
    "        'movie_title' : sum(movie_title_list,[]),\n",
    "        'movie_genre' : sum(movie_genre_list,[]),\n",
    "        'movie_director_lsit' : sum(movie_director_lsit, []),\n",
    "        'movie_score_list' : sum(movie_score_list, [])\n",
    "    }"
   ]
  },
  {
   "cell_type": "markdown",
   "metadata": {},
   "source": [
    "- csv 저장"
   ]
  },
  {
   "cell_type": "code",
   "execution_count": 5,
   "metadata": {},
   "outputs": [],
   "source": [
    "import pandas as pd\n",
    "df=pd.DataFrame(result)\n",
    "# df[df['movie_code_lsit']=='178037']\n",
    "df.head()"
   ]
  },
  {
   "cell_type": "code",
   "execution_count": null,
   "metadata": {},
   "outputs": [],
   "source": [
    "# df.to_csv('movie_final_genre.csv', index=False)"
   ]
  },
  {
   "cell_type": "code",
   "execution_count": 6,
   "metadata": {},
   "outputs": [],
   "source": [
    "movies = pd.read_csv('movie_final_genre.csv')"
   ]
  },
  {
   "cell_type": "code",
   "execution_count": 7,
   "metadata": {},
   "outputs": [
    {
     "data": {
      "text/html": [
       "<div>\n",
       "<style scoped>\n",
       "    .dataframe tbody tr th:only-of-type {\n",
       "        vertical-align: middle;\n",
       "    }\n",
       "\n",
       "    .dataframe tbody tr th {\n",
       "        vertical-align: top;\n",
       "    }\n",
       "\n",
       "    .dataframe thead th {\n",
       "        text-align: right;\n",
       "    }\n",
       "</style>\n",
       "<table border=\"1\" class=\"dataframe\">\n",
       "  <thead>\n",
       "    <tr style=\"text-align: right;\">\n",
       "      <th></th>\n",
       "      <th>movie_code</th>\n",
       "      <th>title</th>\n",
       "      <th>genre</th>\n",
       "      <th>director</th>\n",
       "      <th>score</th>\n",
       "    </tr>\n",
       "  </thead>\n",
       "  <tbody>\n",
       "    <tr>\n",
       "      <th>0</th>\n",
       "      <td>99702</td>\n",
       "      <td>007 노 타임 투 다이 (NO TIME TO DIE)</td>\n",
       "      <td>액션</td>\n",
       "      <td>캐리 후쿠나가</td>\n",
       "      <td>8.92</td>\n",
       "    </tr>\n",
       "    <tr>\n",
       "      <th>1</th>\n",
       "      <td>193996</td>\n",
       "      <td>108명의 여자와 섹스하는 방법 (108: REVENGE AND ADVENTURE ...</td>\n",
       "      <td>코미디 드라마</td>\n",
       "      <td>마츠오 스즈키</td>\n",
       "      <td>1.00</td>\n",
       "    </tr>\n",
       "    <tr>\n",
       "      <th>2</th>\n",
       "      <td>194004</td>\n",
       "      <td>16세의 사운드트랙 (Soundtrack to Sixteen)</td>\n",
       "      <td>코미디 멜로/로맨스</td>\n",
       "      <td>힐러리 셰익스피어</td>\n",
       "      <td>8.00</td>\n",
       "    </tr>\n",
       "    <tr>\n",
       "      <th>3</th>\n",
       "      <td>187321</td>\n",
       "      <td>1917 (1917)</td>\n",
       "      <td>드라마 전쟁</td>\n",
       "      <td>샘 멘데스</td>\n",
       "      <td>8.86</td>\n",
       "    </tr>\n",
       "    <tr>\n",
       "      <th>4</th>\n",
       "      <td>194791</td>\n",
       "      <td>1942: 언노운 배틀 (Unknown Battle)</td>\n",
       "      <td>전쟁</td>\n",
       "      <td>이고르 카피로브</td>\n",
       "      <td>8.02</td>\n",
       "    </tr>\n",
       "  </tbody>\n",
       "</table>\n",
       "</div>"
      ],
      "text/plain": [
       "   movie_code                                              title        genre  \\\n",
       "0       99702                     007 노 타임 투 다이 (NO TIME TO DIE)           액션   \n",
       "1      193996  108명의 여자와 섹스하는 방법 (108: REVENGE AND ADVENTURE ...      코미디 드라마   \n",
       "2      194004                 16세의 사운드트랙 (Soundtrack to Sixteen)   코미디 멜로/로맨스   \n",
       "3      187321                                        1917 (1917)       드라마 전쟁   \n",
       "4      194791                      1942: 언노운 배틀 (Unknown Battle)           전쟁   \n",
       "\n",
       "    director  score  \n",
       "0    캐리 후쿠나가   8.92  \n",
       "1    마츠오 스즈키   1.00  \n",
       "2  힐러리 셰익스피어   8.00  \n",
       "3      샘 멘데스   8.86  \n",
       "4   이고르 카피로브   8.02  "
      ]
     },
     "execution_count": 7,
     "metadata": {},
     "output_type": "execute_result"
    }
   ],
   "source": [
    "movies.columns = ['movie_code', 'title', 'genre', 'director', 'score']\n",
    "movies.head()"
   ]
  },
  {
   "cell_type": "code",
   "execution_count": 8,
   "metadata": {},
   "outputs": [
    {
     "data": {
      "text/plain": [
       "(10492, 5)"
      ]
     },
     "execution_count": 8,
     "metadata": {},
     "output_type": "execute_result"
    }
   ],
   "source": [
    "movies.shape"
   ]
  },
  {
   "cell_type": "code",
   "execution_count": 9,
   "metadata": {},
   "outputs": [],
   "source": [
    "movies.dropna(axis=0, inplace=True)"
   ]
  },
  {
   "cell_type": "code",
   "execution_count": 10,
   "metadata": {},
   "outputs": [
    {
     "data": {
      "text/plain": [
       "(10486, 5)"
      ]
     },
     "execution_count": 10,
     "metadata": {},
     "output_type": "execute_result"
    }
   ],
   "source": [
    "movies.shape"
   ]
  },
  {
   "cell_type": "code",
   "execution_count": 11,
   "metadata": {},
   "outputs": [],
   "source": [
    "# import re\n",
    "# for i, str in enumerate(movies['title']):\n",
    "#     p = re.compile('\\(.*')\n",
    "#     movies['title'][i] = p.sub(' ',str)"
   ]
  },
  {
   "cell_type": "markdown",
   "metadata": {},
   "source": [
    "- TFIDF"
   ]
  },
  {
   "cell_type": "code",
   "execution_count": 12,
   "metadata": {},
   "outputs": [
    {
     "name": "stdout",
     "output_type": "stream",
     "text": [
      "(10486, 365)\n"
     ]
    }
   ],
   "source": [
    "from sklearn.feature_extraction.text import TfidfVectorizer\n",
    "\n",
    "tfidf_vec = TfidfVectorizer(ngram_range=(1,2))\n",
    "tfidf_matrix = tfidf_vec.fit_transform(movies['genre'])\n",
    "\n",
    "print(tfidf_matrix.shape) "
   ]
  },
  {
   "cell_type": "code",
   "execution_count": 13,
   "metadata": {},
   "outputs": [
    {
     "name": "stdout",
     "output_type": "stream",
     "text": [
      "[[1.         0.         0.         ... 0.         0.29430442 0.        ]\n",
      " [0.         1.         0.20061852 ... 0.08587698 0.23840522 0.        ]\n",
      " [0.         0.20061852 1.         ... 0.         0.12458871 0.        ]\n",
      " ...\n",
      " [0.         0.08587698 0.         ... 1.         0.05333158 0.        ]\n",
      " [0.29430442 0.23840522 0.12458871 ... 0.05333158 1.         0.        ]\n",
      " [0.         0.         0.         ... 0.         0.         1.        ]]\n",
      "(10486, 10486)\n",
      "=====================================================================\n",
      "[[    0  9964  9971 ...  3863  3866 10485]\n",
      " [ 8526  4225  6830 ...  4509  4457 10485]\n",
      " [ 4222   501   176 ...  4083  4074 10485]\n",
      " ...\n",
      " [ 1412  4314  8119 ...  4387  4411 10485]\n",
      " [10484  4142  1316 ...  4847  4886 10485]\n",
      " [10485  1454  4137 ...  3408  3401  5242]]\n"
     ]
    },
    {
     "data": {
      "text/plain": [
       "(10486, 10486)"
      ]
     },
     "execution_count": 13,
     "metadata": {},
     "output_type": "execute_result"
    }
   ],
   "source": [
    "from sklearn.metrics.pairwise import cosine_similarity\n",
    "import numpy as np\n",
    "\n",
    "genres_similarity = cosine_similarity(tfidf_matrix, tfidf_matrix)\n",
    "print(genres_similarity)\n",
    "print(genres_similarity.shape)\n",
    "print(\"=====================================================================\")\n",
    "# 유사도가 높은 순으로 영화의 인덱스 값이 정렬되어 있는 array\n",
    "similar_index = np.argsort(-genres_similarity)\n",
    "print(similar_index) # 예) 0번째 인덱스는 870 인덱스랑 가장 유사하다\n",
    "similar_index.shape"
   ]
  },
  {
   "cell_type": "markdown",
   "metadata": {},
   "source": [
    "- 추천"
   ]
  },
  {
   "cell_type": "code",
   "execution_count": 14,
   "metadata": {},
   "outputs": [
    {
     "name": "stdin",
     "output_type": "stream",
     "text": [
      " 앤트맨 (Ant-Man)\n"
     ]
    },
    {
     "name": "stdout",
     "output_type": "stream",
     "text": [
      "[5500]\n",
      "============\n"
     ]
    }
   ],
   "source": [
    "input_movie = input()\n",
    "\n",
    "movie_index = movies[movies['title']==input_movie].index.values\n",
    "print(movie_index)\n",
    "\n",
    "similar_movies = similar_index[movie_index, :int(100)]\n",
    "# print(similar_movies, len(similar_movies[0]))\n",
    "\n",
    "print(\"============\")\n",
    "similar_movies_index = similar_movies.reshape(-1) # 차원 맞춰준다\n",
    "# print(similar_movies_index)\n",
    "# print(movies.iloc[similar_movies_index])"
   ]
  },
  {
   "cell_type": "code",
   "execution_count": 28,
   "metadata": {},
   "outputs": [
    {
     "name": "stdout",
     "output_type": "stream",
     "text": [
      "[ 6303  5500  1738  4494  5485  4362  2382  6852   841  6844  6307  6306\n",
      "  6305  9735  3594  3897  6304   233  4549  8385  2456  7753   519  5719\n",
      "  6550   866  4252  5648  1334  7044  6874  1340  2736  9582  2002  1099\n",
      "  6227  4478  2357  3812  6883  4200  5552   365  3457  6963 10240  5944\n",
      "  1998  8439  2733  1825  3331 10424 10086  4250  4703  2837  6368  7364\n",
      "  5100  4485  4955  9472  3273  1751 10274  6657  9112  9478 10150  3800\n",
      "  7580  3874   413 10065  1677  8678  9355 10384  7647  7819  9068  4942\n",
      "  6626   137  6570   719  5209   833  2159   750   300  6958  1195  1197\n",
      "  7187   425  5473  6363]\n",
      "[1.0, 1.0, 1.0, 1.0, 1.0, 1.0, 1.0, 1.0, 1.0, 1.0, 1.0, 1.0, 1.0, 1.0, 1.0, 1.0, 1.0, 1.0, 1.0, 1.0, 1.0, 1.0, 1.0, 1.0, 1.0, 1.0, 1.0, 1.0, 1.0, 1.0, 1.0, 1.0, 1.0, 1.0, 1.0, 1.0, 1.0, 1.0, 1.0, 1.0, 1.0, 1.0, 1.0, 1.0, 1.0, 1.0, 1.0, 1.0, 1.0, 1.0, 0.7699969694746229, 0.7699969694746229, 0.7699969694746229, 0.7699969694746229, 0.7699969694746229, 0.7699969694746229, 0.7699969694746229, 0.7699969694746229, 0.7699969694746229, 0.7699969694746229, 0.7699969694746229, 0.7699969694746229, 0.7699969694746229, 0.7699969694746229, 0.7699969694746229, 0.7699969694746229, 0.7699969694746229, 0.7699969694746229, 0.7699969694746229, 0.7699969694746229, 0.7699969694746229, 0.7699969694746229, 0.739545304034194, 0.7025075157012999, 0.7025075157012999, 0.6829143422256432, 0.6715788810084566, 0.6715788810084566, 0.6715788810084566, 0.6509694353282007, 0.6305622665735856, 0.6229053294970013, 0.5867638390825948, 0.5642923690592067, 0.5323744357137029, 0.5323744357137029, 0.5323744357137029, 0.5323744357137029, 0.5323744357137029, 0.5323744357137029, 0.5323744357137029, 0.5323744357137029, 0.5323744357137029, 0.5323744357137029, 0.5323744357137029, 0.5323744357137029, 0.5323744357137029, 0.5323744357137029, 0.5323744357137029, 0.5323744357137029]\n"
     ]
    }
   ],
   "source": [
    "print(similar_index[5500][:100])\n",
    "similar_list = genres_similarity[5500]\n",
    "similar_list = sorted(similar_list, reverse=True)[:100]\n",
    "print(similar_list)\n",
    "dic = {\n",
    "\n",
    "}"
   ]
  },
  {
   "cell_type": "code",
   "execution_count": 29,
   "metadata": {},
   "outputs": [
    {
     "data": {
      "text/plain": [
       "{'넥스트 제네레이션 패트레이버 ': 1.0,\n",
       " '앤트맨 ': 1.0,\n",
       " '매드맥스: 로드 워 ': 1.0,\n",
       " '코어 임팩트: 행성 충돌 ': 1.0,\n",
       " '안드로이드 캅 ': 1.0,\n",
       " '익스트림 터미네이터 TR': 1.0,\n",
       " '한 솔로: 스타워즈 스토리 ': 1.0,\n",
       " '슈퍼스톰 ': 1.0,\n",
       " '마피아 ': 1.0,\n",
       " '슈퍼 사이클론 스톰 ': 1.0,\n",
       " '넥스트 투모로우2 ': 1.0,\n",
       " '넥스트 제네레이션 패트레이버 4': 1.0,\n",
       " '넥스트 제네레이션 패트레이버 3 ': 1.0,\n",
       " '고질라 - 파이널 워즈 ': 1.0,\n",
       " '극장판 울트라맨 우주 몬스터 대결전 ': 1.0,\n",
       " '미국 대지진:샌 안드레스 ': 1.0,\n",
       " '넥스트 제네레이션 패트레이버 2 ': 1.0,\n",
       " '블랙아웃 : 인베이젼 어스 ': 1.0,\n",
       " '특수부대 사이보그 솔저 ': 1.0,\n",
       " '오블리비언 ': 1.0,\n",
       " '가디언즈 오브 갤럭시 VOL. 2 ': 1.0,\n",
       " '넥스트 투모로우 ': 1.0,\n",
       " '테넷 ': 1.0,\n",
       " '익스트림 터미네이터 ': 1.0,\n",
       " '마이애미 대침몰 ': 1.0,\n",
       " '몬스터 가디언즈 ': 1.0,\n",
       " '에조: 인류 최후의 전쟁 ': 1.0,\n",
       " '울트라맨 사가 ': 1.0,\n",
       " '타임 트랩 킬러 ': 1.0,\n",
       " '엣지 오브 투모로우 ': 1.0,\n",
       " '스타쉽 라이징 ': 1.0,\n",
       " '터미네이터 솔저 ': 1.0,\n",
       " '로건 ': 1.0,\n",
       " '토탈 리콜 ': 1.0,\n",
       " '아큐페이션 ': 1.0,\n",
       " '어벤져스: 엔드게임 ': 1.0,\n",
       " '극장판 가면라이더 vs 파워레인저 슈퍼히어로 대전 ': 1.0,\n",
       " '칼큘레이터 ': 1.0,\n",
       " '프로젝트 메자 ': 1.0,\n",
       " '론울브스 ': 1.0,\n",
       " '스톰 둠스데이 ': 1.0,\n",
       " '안드론: 블랙 라비린스 ': 1.0,\n",
       " '에일리언 라이징 ': 1.0,\n",
       " '엔젤스 폴른 ': 1.0,\n",
       " '행성탈출: 반란의 서막 ': 1.0,\n",
       " '아틀란틱 림 ': 1.0,\n",
       " '월드 인베이젼 ': 1.0,\n",
       " '판타스틱 4 ': 1.0,\n",
       " '아인 ': 1.0,\n",
       " '유니버셜 솔저 4: 클론의 반란 ': 1.0,\n",
       " '레지던트 이블: 파멸의 날 ': 0.7699969694746229,\n",
       " '베놈 ': 0.7699969694746229,\n",
       " '콜로설 ': 0.7699969694746229,\n",
       " '폴링 스카이 시즌1 ': 0.7699969694746229,\n",
       " '소스 코드 ': 0.7699969694746229,\n",
       " '에이지 오브 투모로우 ': 0.7699969694746229,\n",
       " '가름워즈: 마지막 예언자 ': 0.7699969694746229,\n",
       " '바이스: 범죄도시 ': 0.7699969694746229,\n",
       " '더 머쉰 ': 0.7699969694746229,\n",
       " '콜로니:지구 최후의 날 ': 0.7699969694746229,\n",
       " '메이즈 러너: 스코치 트라이얼 ': 0.7699969694746229,\n",
       " '캡틴 아메리카: 시빌 워 ': 0.7699969694746229,\n",
       " '도미니언: 드라코니안의 음모 ': 0.7699969694746229,\n",
       " '저지 드레드 ': 0.7699969694746229,\n",
       " '지오스톰 ': 0.7699969694746229,\n",
       " '메이즈 러너: 데스 큐어 ': 0.7699969694746229,\n",
       " '인 타임 ': 0.7699969694746229,\n",
       " '바운티 킬러 ': 0.7699969694746229,\n",
       " '메가 파이톤 VS 게토로이드 ': 0.7699969694746229,\n",
       " '전성계비 ': 0.7699969694746229,\n",
       " '아이 엠 넘버 포 ': 0.7699969694746229,\n",
       " '레프트 비하인드: 휴거의 시작 ': 0.7699969694746229,\n",
       " '009 사이보그 ': 0.739545304034194,\n",
       " '메가 사이클론 스톰 ': 0.7025075157012999,\n",
       " '이누야시키 : 히어로 VS 빌런 ': 0.7025075157012999,\n",
       " '서유기 리턴즈 ': 0.6829143422256432,\n",
       " '레디 플레이어 원 ': 0.6715788810084566,\n",
       " '퍼시픽 림 ': 0.6715788810084566,\n",
       " '어벤져스 ': 0.6715788810084566,\n",
       " '타임코드': 0.6509694353282007,\n",
       " '공각기동대 어라이즈 보더: 2 고스트 위스퍼스 ': 0.6305622665735856,\n",
       " '더블샤크 ': 0.6229053294970013,\n",
       " '레지던트 이블 5 : 최후의 심판 3D ': 0.5867638390825948,\n",
       " '더 크로니클: 뮤턴트의 반격 ': 0.5642923690592067,\n",
       " '미국 대지진 ': 0.5323744357137029,\n",
       " '라스트 선라이즈 ': 0.5323744357137029,\n",
       " '매직파워 ': 0.5323744357137029,\n",
       " '다이노소어 월드 ': 0.5323744357137029,\n",
       " '블랙홀 ': 0.5323744357137029,\n",
       " '마션 인베이션 ': 0.5323744357137029,\n",
       " '인 더 더스트 ': 0.5323744357137029,\n",
       " '데드풀2: 순한 맛 ': 0.5323744357137029,\n",
       " '승리호 ': 0.5323744357137029,\n",
       " '아이스 투모로우 ': 0.5323744357137029,\n",
       " '유랑지구 ': 0.5323744357137029,\n",
       " '유에프오: 지구 침공 ': 0.5323744357137029,\n",
       " '인터스텔라 ': 0.5323744357137029,\n",
       " '인베이젼 2020 ': 0.5323744357137029,\n",
       " '아이스 토네이도 ': 0.5323744357137029,\n",
       " '대지진 2014 ': 0.5323744357137029}"
      ]
     },
     "execution_count": 29,
     "metadata": {},
     "output_type": "execute_result"
    }
   ],
   "source": [
    "import re\n",
    "p=re.compile('\\(.*')\n",
    "\n",
    "a = movies.iloc[similar_movies_index]['title']\n",
    "for i,j in zip(a, similar_list):\n",
    "    i = p.sub('', i)\n",
    "    dic[i] = j\n",
    "dic"
   ]
  },
  {
   "cell_type": "markdown",
   "metadata": {},
   "source": [
    "- 시각화"
   ]
  },
  {
   "cell_type": "code",
   "execution_count": 215,
   "metadata": {},
   "outputs": [],
   "source": [
    "# !pip install wordcloud"
   ]
  },
  {
   "cell_type": "code",
   "execution_count": 31,
   "metadata": {},
   "outputs": [
    {
     "data": {
      "image/png": "[encoded data removed]",
      "text/plain": [
       "<Figure size 432x288 with 1 Axes>"
      ]
     },
     "metadata": {
      "needs_background": "light"
     },
     "output_type": "display_data"
    }
   ],
   "source": [
    "from wordcloud import WordCloud\n",
    "import matplotlib.pyplot as plt\n",
    "\n",
    "my_wc = WordCloud(font_path='C:/Windows/Fonts/malgun.ttf', background_color='white', width=800, height=400)\n",
    "plt.imshow(my_wc.generate_from_frequencies(dic))\n",
    "plt.axis('off') # x, y 축 숫자 제거\n",
    "plt.show()"
   ]
  },
  {
   "cell_type": "code",
   "execution_count": null,
   "metadata": {},
   "outputs": [],
   "source": []
  }
 ],
 "metadata": {
  "kernelspec": {
   "display_name": "Python 3",
   "language": "python",
   "name": "python3"
  },
  "language_info": {
   "codemirror_mode": {
    "name": "ipython",
    "version": 3
   },
   "file_extension": ".py",
   "mimetype": "text/x-python",
   "name": "python",
   "nbconvert_exporter": "python",
   "pygments_lexer": "ipython3",
   "version": "3.7.6"
  }
 },
 "nbformat": 4,
 "nbformat_minor": 4
}
