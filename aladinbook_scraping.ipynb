{
 "cells": [
  {
   "cell_type": "code",
   "execution_count": 2,
   "metadata": {},
   "outputs": [],
   "source": [
    "import requests\n",
    "from bs4 import BeautifulSoup\n",
    "import pandas as pd\n",
    "import numpy as np\n",
    "import re"
   ]
  },
  {
   "cell_type": "code",
   "execution_count": 3,
   "metadata": {},
   "outputs": [
    {
     "name": "stdout",
     "output_type": "stream",
     "text": [
      "1234567891011121314151617181920"
     ]
    }
   ],
   "source": [
    "code = []\n",
    "title = []\n",
    "intro = []\n",
    "\n",
    "cookies = {\n",
    "    'ACEUCI': '1',\n",
    "    'CheckSameSite': 'IsValidSameSiteSet',\n",
    "    'AladdinUser': 'UID=-50125363&SID=4P5oPL5cRydu48l0%2b6Q1uQ%3d%3d',\n",
    "    'AladdinSession': 'UID=-50125363&SID=4P5oPL5cRydu48l0%2b6Q1uQ%3d%3d',\n",
    "    'AladdinUS': '8VIA9uXIEEDg0PBcYe2Wbg%3d%3d&USA=0',\n",
    "    'ACEUACS': '1597764680612231040',\n",
    "    'ACEFCID': 'UID-5F4875F0E779D63E9098338F',\n",
    "    '_BS_GUUID': 'dNt4ok3JKAKZLWQCygDAdQYK4H7EDqBRd4VCpZla',\n",
    "    '_ga': 'GA1.3.1224188238.1598584305',\n",
    "    '_gid': 'GA1.3.645720543.1598584305',\n",
    "    'ala_qs_use': '1',\n",
    "    'pFloatingBanner': 'true',\n",
    "    '_TRK_AUIDA_13987': '4862220279678af7bef6c760c9955607:2',\n",
    "    '_TRK_ASID_13987': 'd44039508014a1158acc584f60cc1c04',\n",
    "    'refererURL': 'https://www.aladin.co.kr/shop/wproduct.aspx?ItemId=246064543',\n",
    "    '_gat_gtag_UA_59266_2': '1',\n",
    "}\n",
    "\n",
    "headers = {\n",
    "    'Connection': 'keep-alive',\n",
    "    'Accept': '*/*',\n",
    "    'User-Agent': 'Mozilla/5.0 (Windows NT 10.0; Win64; x64) AppleWebKit/537.36 (KHTML, like Gecko) Chrome/85.0.4183.83 Safari/537.36',\n",
    "    'X-Requested-With': 'XMLHttpRequest',\n",
    "    'Sec-Fetch-Site': 'same-origin',\n",
    "    'Sec-Fetch-Mode': 'cors',\n",
    "    'Sec-Fetch-Dest': 'empty',\n",
    "    'Referer': 'https://www.aladin.co.kr/shop/wproduct.aspx?ItemId=246064543',\n",
    "    'Accept-Language': 'ko-KR,ko;q=0.9,en-US;q=0.8,en;q=0.7,ja;q=0.6',\n",
    "}\n",
    "\n",
    "for i in range(1, 21): #21\n",
    "    response = requests.get(f'https://www.aladin.co.kr/shop/common/wbest.aspx?BestType=Bestseller&BranchType=1&CID=351&page={i}&cnt=1000&SortOrder=1')\n",
    "    soup = BeautifulSoup(response.text, 'html.parser')\n",
    "    div_tag = soup.select('form#Myform > div.ss_book_box')\n",
    "    print(i, end=\"\")\n",
    "    for div in div_tag:\n",
    "        a_tag = div.select_one('li > a.bo3')\n",
    "        title.append(a_tag.get_text()) # 책 제목\n",
    "        \n",
    "        # isbn\n",
    "        src=div.select_one('img.i_cover')['src']\n",
    "        isbn = (src.split(\"cover150/\")[1]).split(\"_\")[0]\n",
    "        \n",
    "        a_href = a_tag['href']\n",
    "        code.append(a_href.split(\"ItemId=\")[1]) # 코드\n",
    "        \n",
    "        params = (\n",
    "            ('ISBN', isbn),\n",
    "            ('name', 'Introduce'),\n",
    "            ('type', '0'),\n",
    "            ('date', '14'),\n",
    "        )\n",
    "\n",
    "        response = requests.get('https://www.aladin.co.kr/shop/product/getContents.aspx', headers=headers, params=params, cookies=cookies)\n",
    "        soup = BeautifulSoup(response.text, 'html.parser')\n",
    "        ls = soup.select_one('div.Ere_prod_mconts_LS')\n",
    "        if (ls is not None) and (ls.get_text()=='책소개'):\n",
    "            div_r = soup.select_one('div.Ere_prod_mconts_R')\n",
    "            if div_r is not None:\n",
    "                text = div_r.get_text()\n",
    "                text = text.replace('\\r\\n','').replace('  ','').replace('\\n','')\n",
    "                intro.append(text)\n",
    "            elif div_r is None:\n",
    "                intro.append(\"NULL\")\n",
    "        else:\n",
    "            intro.append(\"NULL\")"
   ]
  },
  {
   "cell_type": "code",
   "execution_count": 4,
   "metadata": {},
   "outputs": [],
   "source": [
    "dic = {\n",
    "    'code':code,\n",
    "    'title':title,\n",
    "    'intro':intro\n",
    "}"
   ]
  },
  {
   "cell_type": "code",
   "execution_count": 5,
   "metadata": {},
   "outputs": [
    {
     "name": "stdout",
     "output_type": "stream",
     "text": [
      "(1000, 3)\n"
     ]
    },
    {
     "data": {
      "text/html": [
       "<div>\n",
       "<style scoped>\n",
       "    .dataframe tbody tr th:only-of-type {\n",
       "        vertical-align: middle;\n",
       "    }\n",
       "\n",
       "    .dataframe tbody tr th {\n",
       "        vertical-align: top;\n",
       "    }\n",
       "\n",
       "    .dataframe thead th {\n",
       "        text-align: right;\n",
       "    }\n",
       "</style>\n",
       "<table border=\"1\" class=\"dataframe\">\n",
       "  <thead>\n",
       "    <tr style=\"text-align: right;\">\n",
       "      <th></th>\n",
       "      <th>code</th>\n",
       "      <th>title</th>\n",
       "      <th>intro</th>\n",
       "    </tr>\n",
       "  </thead>\n",
       "  <tbody>\n",
       "    <tr>\n",
       "      <th>0</th>\n",
       "      <td>246064543</td>\n",
       "      <td>비전공자를 위한 이해할 수 있는 IT 지식</td>\n",
       "      <td>비전공자를 위한 'IT 기초 문법서'로, 한 번쯤 들어봤을 프로그래밍 언어, 운영체...</td>\n",
       "    </tr>\n",
       "    <tr>\n",
       "      <th>1</th>\n",
       "      <td>193931483</td>\n",
       "      <td>혼자 공부하는 파이썬</td>\n",
       "      <td>독학으로 프로그래밍 언어를 처음 배우려는 입문자가, 혹은 파이썬을 배우려는 입문자가...</td>\n",
       "    </tr>\n",
       "    <tr>\n",
       "      <th>2</th>\n",
       "      <td>236186172</td>\n",
       "      <td>리팩터링 2판 (리팩토링 개정판)</td>\n",
       "      <td>개발자가 선택한 프로그램 가치를 높이는 최고의 코드 관리 기술, 마틴 파울러의 『리...</td>\n",
       "    </tr>\n",
       "    <tr>\n",
       "      <th>3</th>\n",
       "      <td>253657487</td>\n",
       "      <td>최고의 그림을 그리는 방법</td>\n",
       "      <td>베스트셀러 &lt;DVD와 함께하는 애니메이션 캐릭터 작화 기술&gt;의 저자가 경험을 바탕으...</td>\n",
       "    </tr>\n",
       "    <tr>\n",
       "      <th>4</th>\n",
       "      <td>99386523</td>\n",
       "      <td>직장인을 위한 실무 엑셀</td>\n",
       "      <td>NULL</td>\n",
       "    </tr>\n",
       "  </tbody>\n",
       "</table>\n",
       "</div>"
      ],
      "text/plain": [
       "        code                    title  \\\n",
       "0  246064543  비전공자를 위한 이해할 수 있는 IT 지식   \n",
       "1  193931483              혼자 공부하는 파이썬   \n",
       "2  236186172       리팩터링 2판 (리팩토링 개정판)   \n",
       "3  253657487           최고의 그림을 그리는 방법   \n",
       "4   99386523            직장인을 위한 실무 엑셀   \n",
       "\n",
       "                                               intro  \n",
       "0  비전공자를 위한 'IT 기초 문법서'로, 한 번쯤 들어봤을 프로그래밍 언어, 운영체...  \n",
       "1  독학으로 프로그래밍 언어를 처음 배우려는 입문자가, 혹은 파이썬을 배우려는 입문자가...  \n",
       "2  개발자가 선택한 프로그램 가치를 높이는 최고의 코드 관리 기술, 마틴 파울러의 『리...  \n",
       "3  베스트셀러 <DVD와 함께하는 애니메이션 캐릭터 작화 기술>의 저자가 경험을 바탕으...  \n",
       "4                                               NULL  "
      ]
     },
     "execution_count": 5,
     "metadata": {},
     "output_type": "execute_result"
    }
   ],
   "source": [
    "import pandas as pd\n",
    "df=pd.DataFrame(dic)\n",
    "print(df.shape)\n",
    "df.head()"
   ]
  },
  {
   "cell_type": "code",
   "execution_count": null,
   "metadata": {},
   "outputs": [],
   "source": []
  }
 ],
 "metadata": {
  "kernelspec": {
   "display_name": "Python 3",
   "language": "python",
   "name": "python3"
  },
  "language_info": {
   "codemirror_mode": {
    "name": "ipython",
    "version": 3
   },
   "file_extension": ".py",
   "mimetype": "text/x-python",
   "name": "python",
   "nbconvert_exporter": "python",
   "pygments_lexer": "ipython3",
   "version": "3.7.6"
  }
 },
 "nbformat": 4,
 "nbformat_minor": 4
}
